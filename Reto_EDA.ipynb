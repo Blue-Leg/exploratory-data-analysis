{
 "cells": [
  {
   "cell_type": "markdown",
   "metadata": {
    "id": "IvfrtowEEvPU"
   },
   "source": [
    "# **Exploratory Data Analysis**"
   ]
  },
  {
   "cell_type": "markdown",
   "metadata": {
    "id": "QPFgRllLGwMx"
   },
   "source": [
    "**Equipo Blue Leg**\n",
    "\n",
    "Diego Sú Gómez - A01620476\n",
    "\n",
    "Vanessa Méndez Palacios - A01639925\n",
    "\n",
    "Estefanía Pérez Yeo - A01639270\n",
    "\n",
    "Francisco Javier Sanchez Panduro - A01639832"
   ]
  },
  {
   "cell_type": "markdown",
   "metadata": {
    "id": "uABXW-JcFFeW"
   },
   "source": [
    "## **Importación de las librerías**"
   ]
  },
  {
   "cell_type": "code",
   "execution_count": null,
   "metadata": {
    "id": "syK9bobHEfWJ"
   },
   "outputs": [],
   "source": [
    "import pandas as pd\n",
    "import numpy as np\n",
    "import matplotlib.pyplot as plt\n",
    "import seaborn as sns\n",
    "import glob"
   ]
  },
  {
   "cell_type": "markdown",
   "metadata": {
    "id": "WBo4Syz8G4nl"
   },
   "source": [
    "## **Manipulación y concatenación de los datos**"
   ]
  },
  {
   "cell_type": "markdown",
   "metadata": {
    "id": "ks0SO6lqFOru"
   },
   "source": [
    "Al observar que se tenían 15 archivos .csv pertenecientes a cada uno de los pacientes, se decidió que la mejor manera de cargar la información sería concatenar todos los archivos .csv en un DataFrame y posteriormente descargarlo en formato .csv y únicamente cargar ese archivo al momento, para evitar tener que hacer la concatenación manual cada vez que se requiera hacer uso de los datos."
   ]
  },
  {
   "cell_type": "code",
   "execution_count": null,
   "metadata": {
    "colab": {
     "base_uri": "https://localhost:8080/",
     "height": 53
    },
    "id": "30nu7mHSFDLH",
    "outputId": "9f78619e-de65-4861-d8c1-4d38ba7f6dd9"
   },
   "outputs": [],
   "source": [
    "# Código de un solo uso - Leer los archivos .csv de cada paciente y concatenarlos en un DataFrame que será descargado\n",
    "\n",
    "#Leer los dataframes y añadir una columna con el id del paciente para poder combinarlos\n",
    "'''archivos_csv = glob.glob('/content/*.csv')\n",
    "\n",
    "df_global = pd.DataFrame()\n",
    "num_paciente = 1'''\n",
    "\n",
    "#Leer cada uno de los .csv, añadir la columna patient_id y señalar los registros con el número de paciente correspondiente\n",
    "'''for archivo in archivos_csv:\n",
    "    df_paciente = pd.read_csv(archivo)\n",
    "    df_paciente.insert(0,\"patient_id\",num_paciente)\n",
    "    df_global = pd.concat([df_global, df_paciente])\n",
    "    num_paciente +=1'''\n"
   ]
  },
  {
   "cell_type": "markdown",
   "metadata": {
    "id": "3caXynUOgCR4"
   },
   "source": [
    "Tras ejecutar este bloque de código, el Dataframe ya cuenta con todos los registros de los pacientes y con un ID que identifica cada registro con el paciente correspondiente. Ahora lo siguiente será descargar ese mismo DataFrame en formato .csv para no tener que ejecutar este código cada vez que se ejecute este archivo o cuando se requiera la información."
   ]
  },
  {
   "cell_type": "code",
   "execution_count": null,
   "metadata": {
    "id": "diqo9ljFgmLS"
   },
   "outputs": [],
   "source": [
    "#Descargar el archivo en formato .csv\n",
    "\n",
    "# df_global.to_csv(\"patients_data.csv\")"
   ]
  },
  {
   "cell_type": "markdown",
   "metadata": {
    "id": "CCAzqdHmhpCH"
   },
   "source": [
    "## **Carga de datos**"
   ]
  },
  {
   "cell_type": "markdown",
   "metadata": {
    "id": "BtmlEHqUh2a4"
   },
   "source": [
    "Tras haber descargado el archivo con todos los datos de los pacientes, lo único necesario para poder leer los datos de todos los pacientes es cargar el archivo en el entorno y leerlo."
   ]
  },
  {
   "cell_type": "code",
   "execution_count": null,
   "metadata": {
    "id": "Etm9noc8kpn2"
   },
   "outputs": [],
   "source": [
    "#Leer el archivo con los datos de los pacientes\n",
    "df = pd.read_csv(\"patients_data.csv\")"
   ]
  },
  {
   "cell_type": "markdown",
   "metadata": {
    "id": "AZw7DKECpCG9"
   },
   "source": [
    "## **Limpieza y Exploración de los datos**"
   ]
  },
  {
   "cell_type": "markdown",
   "metadata": {
    "id": "okl_4vfIn0-f"
   },
   "source": [
    "Tras cargar el archivo, lo siguiente es ver cómo se encuentra la distribución de los datos, lo que se puede realizar fácilmente con un .head()"
   ]
  },
  {
   "cell_type": "code",
   "execution_count": null,
   "metadata": {
    "colab": {
     "base_uri": "https://localhost:8080/",
     "height": 206
    },
    "id": "G3k8w4VKnfOV",
    "outputId": "c39dc119-0dcb-4062-d2dc-9ca5f34b246d"
   },
   "outputs": [],
   "source": [
    "df.head()"
   ]
  },
  {
   "cell_type": "markdown",
   "metadata": {
    "id": "iqk7WNQhoYlE"
   },
   "source": [
    "Primeramente, se puede observar que, al concatenar los datos en un sólo dataframe, se creó una columna extra la cual no es útil, por lo que se debe borrar antes de proseguir con la exploración."
   ]
  },
  {
   "cell_type": "code",
   "execution_count": null,
   "metadata": {
    "id": "_dbPunqGngZc"
   },
   "outputs": [],
   "source": [
    "#Borrar la columna sin nombre\n",
    "df = df.drop([\"Unnamed: 0\"],axis=1)"
   ]
  },
  {
   "cell_type": "markdown",
   "metadata": {
    "id": "R0fq1tb3pPcK"
   },
   "source": [
    "Ya con la columna innecesaria eliminada, lo siguiente por hacer es analizar el conjunto en sí mismo, para entender cómo está estructurado y poder comenzar a tener una percepción de los datos."
   ]
  },
  {
   "cell_type": "code",
   "execution_count": null,
   "metadata": {
    "colab": {
     "base_uri": "https://localhost:8080/"
    },
    "id": "0-WAr-OPovtu",
    "outputId": "02e26a90-0b55-4daa-8594-dee8999113bc"
   },
   "outputs": [],
   "source": [
    "#Encontrar las dimensiones del DataFrame\n",
    "df.shape"
   ]
  },
  {
   "cell_type": "code",
   "execution_count": null,
   "metadata": {
    "colab": {
     "base_uri": "https://localhost:8080/"
    },
    "id": "eMtG-GMXrVks",
    "outputId": "225e4668-8ec0-442a-a1cd-2ec218751453"
   },
   "outputs": [],
   "source": [
    "#Observar los tipos de datos que tiene el DataFrame\n",
    "df.info()"
   ]
  },
  {
   "cell_type": "code",
   "execution_count": null,
   "metadata": {
    "colab": {
     "base_uri": "https://localhost:8080/"
    },
    "id": "TFu6P40ItBBg",
    "outputId": "9db442d1-2ebb-4943-b49a-370f9e1535e2"
   },
   "outputs": [],
   "source": [
    "#Observar la cantidad de fechas únicas\n",
    "df[\"timestamp\"].unique().size"
   ]
  },
  {
   "cell_type": "code",
   "execution_count": null,
   "metadata": {
    "colab": {
     "base_uri": "https://localhost:8080/"
    },
    "id": "zpXdlsXutEj3",
    "outputId": "de09cb1c-dcc0-45e1-db5e-649a98bc9bbc"
   },
   "outputs": [],
   "source": [
    "#Observar la cantidad de \"labels\" únicos\n",
    "df[\"label\"].unique()"
   ]
  },
  {
   "cell_type": "markdown",
   "metadata": {
    "id": "s0mJMUyZryeW"
   },
   "source": [
    "Primeramente, se puede observar que el DataFrame con el que se trabajará cuenta con 1,832,560 observaciones y 9 variables. Además, casi todas las variables disponibles en el DataFrame son numéricas, exceptuando el timestamp. Se tiene el conocimiento de que cada observación (fila del DataFrame) corresponde a una medición de los sensores de cada paciente. Por cada observación se tiene el ID del paciente, una marca de tiempo única que indica cuándo se tomó dicha medición, y cada uno de los valores del acelerómetro de cada sensor, uno por cada eje. Finalmente, también se encuentra el label, que corresponde al tipo de actividad que se estaba realizando según las medidas de los sensores. Se observa que hay 7 tipos de actividades diferentes, a las cuales corresponde un número.\n",
    "\n",
    "Antes de proseguir con el análisis de las variables y observaciones, sería prudente asegurar que el DataSet no contenga valores nulos o duplicados."
   ]
  },
  {
   "cell_type": "code",
   "execution_count": null,
   "metadata": {
    "colab": {
     "base_uri": "https://localhost:8080/"
    },
    "id": "Bt_O6F8ftxiL",
    "outputId": "e1ff2d7b-deeb-40f0-ad29-1b714ebf6cd5"
   },
   "outputs": [],
   "source": [
    "#Encontrar el total de valores nulos en cada columna\n",
    "pd.isna(df).sum()"
   ]
  },
  {
   "cell_type": "code",
   "execution_count": null,
   "metadata": {
    "colab": {
     "base_uri": "https://localhost:8080/",
     "height": 89
    },
    "id": "1Dkrv32cu6mF",
    "outputId": "076d2c76-1dff-44ea-c0de-fff4fbd593e5"
   },
   "outputs": [],
   "source": [
    "#Encontrar los valores duplicados en el DataFrame\n",
    "df[df.duplicated()]"
   ]
  },
  {
   "cell_type": "markdown",
   "metadata": {
    "id": "hM1w3YLuvxPd"
   },
   "source": [
    "Tras ejecutar estas dos líneas de código, se puede observar que en el DataFrame no hay valores nulos ni duplicados, por lo que no hay necesidad de eliminar o modificar observaciones dentro del conjunto de información.\n",
    "\n",
    "Realizando un análisis más a fondo del dataset, en el DataFrame se observa que \"label\" es una variable numérica. Sin embargo, corresponde a un tipo de actividad, por lo que sería útil poner una columna que indique el nombre al que se refiere el label, para evitar tener que buscarlo en el diccionario cuando se necesite, y si se llegase a realizar un modelo, se puede remover o declarar otra variable para hacerlo.\n",
    "\n",
    "De acuerdo con el sitio donde se obtuvo el Dataset, se sabe que cada número corresponde a una actividad, y se relacionan de la siguiente forma:\n",
    "\n",
    "* 1: walking\n",
    "* 3: shuffling\n",
    "* 4: stairs (ascending)\n",
    "* 5: stairs (descending)\n",
    "* 6: standing\n",
    "* 7: sitting\n",
    "* 8: lying\n",
    "\n",
    "Con este conocimiento, se puede agregar la columna al DataFrame."
   ]
  },
  {
   "cell_type": "code",
   "execution_count": null,
   "metadata": {
    "colab": {
     "base_uri": "https://localhost:8080/",
     "height": 206
    },
    "id": "BfOrb1VFrq-p",
    "outputId": "2db05e74-fe37-4d6c-e881-5d731ae4fd50"
   },
   "outputs": [],
   "source": [
    "#Añadir la columna del nombre de la actividad que corresponde a cada Label para facilitar el entendimiento de los datos\n",
    "df[\"activity_type\"] = np.select([df[\"label\"]==1,df[\"label\"]==3,df[\"label\"]==4,df[\"label\"]==5,df[\"label\"]==6,df[\"label\"]==7,df[\"label\"]==8],[\"walking\", \"shuffling\",\"stairs (up)\", \"stairs (down)\", \"standing\", \"sitting\", \"lying\"])\n",
    "df.head()"
   ]
  },
  {
   "cell_type": "markdown",
   "metadata": {
    "id": "406nA2R-1jr_"
   },
   "source": [
    "## **Análisis y Visualización de los datos**"
   ]
  },
  {
   "cell_type": "markdown",
   "metadata": {
    "id": "TAFnTIps2HWZ"
   },
   "source": [
    "Después de haber asegurado que los datos no tuvieran duplicados ni valores vacíos, y tras ya tener todos los datos del Dataset disponibles en el DataFrame, se puede empezar a analizar el mismo, para encontrar relaciones entre los datos, su significancia y otros parámetros que sean útiles para conocer la información con la que se va a trabajar.\n",
    "\n",
    "Lo primero que se puede realizar es utilizar el método **describe** de Pandas para encontrar información acerca de los datos en el DataFrame, como su dispersión, tendencias e información estadística básica de los datos."
   ]
  },
  {
   "cell_type": "code",
   "execution_count": null,
   "metadata": {
    "colab": {
     "base_uri": "https://localhost:8080/",
     "height": 300
    },
    "id": "0_Q59UsS6KRK",
    "outputId": "90c5c9f5-99e3-42c1-8c2f-3184408dec5f"
   },
   "outputs": [],
   "source": [
    "#Obtener información general del DataFrame\n",
    "df.describe()"
   ]
  },
  {
   "cell_type": "markdown",
   "metadata": {
    "id": "xoHAaP-z-2c_"
   },
   "source": [
    "Como se puede observar, el resultado de ejecutar esta línea de código es un resumen estadísitico de cada una de las variables numéricas que se encuentran dentro del DataFrame. Se puede ver el total de valores, la media, la desviación estándar, el valor mínimo y máximo y los cuartiles de cada una de las variables. Sin embargo, estas están expresadas en exponenciales debido a la configuración del método, y a la estructura de los datos del conjunto, por lo que para poder obtener correctamente el resumen de los 5 números, lo mejor sería calcularlos de forma separada y luego hacer la interpretación."
   ]
  },
  {
   "cell_type": "code",
   "execution_count": null,
   "metadata": {
    "colab": {
     "base_uri": "https://localhost:8080/"
    },
    "id": "Nr504rQi_SoE",
    "outputId": "7c9f3e8b-57b5-4e94-eed5-ce2c91077207"
   },
   "outputs": [],
   "source": [
    "#Encontrar los valores extremos de cada variable\n",
    "df.min(numeric_only=True)"
   ]
  },
  {
   "cell_type": "code",
   "execution_count": null,
   "metadata": {
    "colab": {
     "base_uri": "https://localhost:8080/"
    },
    "id": "_oY310mW_6zp",
    "outputId": "b534c278-2f15-430d-f7d0-6906a4f18e78"
   },
   "outputs": [],
   "source": [
    "df.max(numeric_only=True)"
   ]
  },
  {
   "cell_type": "code",
   "execution_count": null,
   "metadata": {
    "colab": {
     "base_uri": "https://localhost:8080/"
    },
    "id": "dW1gN63__8lC",
    "outputId": "313536fd-4ed2-4ce1-ba38-4419018d6a74"
   },
   "outputs": [],
   "source": [
    "#Encontrar la mediana de cada variable\n",
    "df.median(numeric_only=True)"
   ]
  },
  {
   "cell_type": "code",
   "execution_count": null,
   "metadata": {
    "colab": {
     "base_uri": "https://localhost:8080/",
     "height": 143
    },
    "id": "-ZGsySzdAmII",
    "outputId": "af638f81-eafd-4527-fff7-d98adbaa5185"
   },
   "outputs": [],
   "source": [
    "#Encontrar los cuartiles de cada variable\n",
    "df.quantile([0.25,0.5,0.75],numeric_only=True)"
   ]
  },
  {
   "cell_type": "markdown",
   "metadata": {
    "id": "vlh2fOehr_u9"
   },
   "source": [
    "Tras haber obtenido los 5 valores, se puede observar que las medidas de los acelerómetros suelen estar entre valores de -2 y 2, con algunas excepciones puntuales. Se puede ver que los valores más pequeños de la aceleración en los sensores son de -2, -4, -5 y -7, mientras que los valores máximos son de 1, 3 y 5. Otra cosa que se puede obtener de estos parámetros es que la mayoría de las mediciones de los acelerómetros son negativas. Esto se obtiene de los cuartiles de los datos, y se observa que la gran mayoría de ellos son negativos, y los que son positivos son con valores cercanos al 0. Con esta información, se podría interpretar que los valores de aceleración son negativos debido a que los sujetos de prueba son adultos mayores, que suelen tener algunas dificultades en términos de movilidad, lo que confirma que los datos del Dataset son congruentes.\n",
    "\n",
    "Tras haber analizado brevemente las variables numéricas, lo siguiente que se podría hacer es revisar las variables categóricas para tener una idea de los resultados del modelo del estudio."
   ]
  },
  {
   "cell_type": "markdown",
   "metadata": {
    "id": "OaLgujm2gWlb"
   },
   "source": [
    "### **Diagramas de caja de cada una de las variables**"
   ]
  },
  {
   "cell_type": "code",
   "execution_count": null,
   "metadata": {
    "colab": {
     "base_uri": "https://localhost:8080/",
     "height": 470
    },
    "id": "mzwn6gQLjaNC",
    "outputId": "cb27a4fd-4a69-44ba-e82e-fcd4d9d7277e"
   },
   "outputs": [],
   "source": [
    "#Realizar el diagrama de caja de cada variable\n",
    "plt.boxplot(df[[\"back_x\",\"back_y\",\"back_z\",\"thigh_x\",\"thigh_y\",\"thigh_z\"]])\n",
    "plt.title(\"Diagrama de caja de las variables numéricas\")"
   ]
  },
  {
   "cell_type": "markdown",
   "metadata": {
    "id": "bPGNpJYqSBPp"
   },
   "source": [
    "### **Histograma de los tipos de actividad**"
   ]
  },
  {
   "cell_type": "code",
   "execution_count": null,
   "metadata": {
    "colab": {
     "base_uri": "https://localhost:8080/",
     "height": 549
    },
    "id": "qCiZDkPXxBQU",
    "outputId": "71fa885e-3ebc-4848-b2f3-fbaee3d8da38"
   },
   "outputs": [],
   "source": [
    "#Realizar un histograma con los tipos de actividad\n",
    "activity_freq = sns.countplot(data=df,x=df[\"activity_type\"])\n",
    "activity_freq.set_xticklabels(activity_freq.get_xticklabels(), rotation=45)\n",
    "activity_freq.set(title=\"Histograma de los tipos de actividad en el DataFrame\")"
   ]
  },
  {
   "cell_type": "markdown",
   "metadata": {
    "id": "8BwwYdODSDds"
   },
   "source": [
    "### **Diagrama de pastel sobre los tipos de actividad**"
   ]
  },
  {
   "cell_type": "code",
   "execution_count": null,
   "metadata": {
    "colab": {
     "base_uri": "https://localhost:8080/",
     "height": 446
    },
    "id": "jIdjwUkjOZPj",
    "outputId": "6f10d0c0-1236-4353-aa11-7d5faeae3734"
   },
   "outputs": [],
   "source": [
    "#Graficar la frecuencia de cada actividad en un diagrama de pastel\n",
    "df.activity_type.value_counts().plot(kind=\"pie\",autopct='%.0f%%')\n",
    "plt.title(\"Distribución de cada tipo de actividad modelada\")"
   ]
  },
  {
   "cell_type": "markdown",
   "metadata": {
    "id": "pozqTYcRI9XA"
   },
   "source": [
    "A partir de histograma y del diagrama pastel, se puede observar mediante estas representaciones la contabilidad con respecto al tipo de actividad. De dicha manera el histograma nos muestra la cantidad explicita de registros por actividad y en el diagrama pastel se observa a memdida de porcentaje dichos registros.\n",
    "\n",
    "Gracias al histograma este nos ayuda a identificar patrones y anomalías en lo que tenemos, y nos permite comprender mejor lo que estamos analizando. El diagrama de pastel nos da una idea rápida de la distribución proporcional de los datos, pero sobre todo, la facilidad para sumar sectores, siempre y cuando la suma de en total su 100%\n",
    "\n",
    "Se puede observar que la gran mayoría de las observaciones reconocieron la actividad de caminar, siendo casi el 50% de los datos. Las siguientes actividades más comunes fueron estar sentado y parado, seguido de acostado, arrastrar los pies y, por último subir y bajar escaleras. Si bien es cierto que en este punto del análisis aún no se puede inferir el porqué, el analizar ahora los valores de los acelerómetros podría dar una idea de cómo se selecciona el tipo de actividad dependiendo de los valores de aceleración."
   ]
  },
  {
   "cell_type": "markdown",
   "metadata": {
    "id": "2MyqfS0RSPmK"
   },
   "source": [
    "### **Histograma de observaciones por paciente (número de pacientes)**"
   ]
  },
  {
   "cell_type": "code",
   "execution_count": null,
   "metadata": {
    "colab": {
     "base_uri": "https://localhost:8080/",
     "height": 489
    },
    "id": "ku4VnSnkxPAW",
    "outputId": "ab26faa7-c661-4856-84d0-60fe8854f0df"
   },
   "outputs": [],
   "source": [
    "#Realizar un histograma del número de registros de cada paciente\n",
    "patients_freq = sns.countplot(data=df,x=df[\"patient_id\"])\n",
    "patients_freq.set(title=\"Histograma de los registros por Paciente\")"
   ]
  },
  {
   "cell_type": "markdown",
   "metadata": {
    "id": "WifXgujPStrr"
   },
   "source": [
    "Para comprender la información dentro de cada registro podemos observar como cada paciente contribuyó al total de registros, donde el paciente 8 comparado con el paciente 3 mantiene una diferencia mayor a comparación de otros pacientes. Cabe mencionar que dentro de los 15 pacientes, todos mantienen un número de registros alto, aproximadamente entre 9000 y 15000 registros, aunque ninguno con la misma cantidad.Sin embargo, todos los pacientes, a excepción del #3 tienen un número de registros relativamente similar, por lo que si se quisiera predecir por paciente, es importante considerar la cantidad de registros. Tomando en cuenta esta representación ahora se comprende qué paciente contribuye más al momento de observar los futuros gráficos."
   ]
  },
  {
   "cell_type": "markdown",
   "metadata": {
    "id": "1NU85Z_JPauu"
   },
   "source": [
    "### **Histogramas de cada sensor clasificado por tipo de actividad**"
   ]
  },
  {
   "cell_type": "markdown",
   "metadata": {
    "id": "o0ACMmXCPfGT"
   },
   "source": [
    "En base a estos 6 sensores que se observan, se decidió realizar un histograma con cada sensor, clasificándolo por tipo actividad, donde cada sensor es reconocido por las variables de:\n",
    "\n",
    "* back_x\n",
    "* back_y\n",
    "* back_z\n",
    "* thigh_x\n",
    "* thigh_y\n",
    "* thigh_z\n",
    "\n",
    "Mediante a los diferentes colores que ayudan a la percepción de la distribucion de los datos, se puede observar como cada tipo de activad difiere dependiendo del sensor utilizado, el cual se puede observar en el eje x de cada histograma."
   ]
  },
  {
   "cell_type": "code",
   "execution_count": null,
   "metadata": {
    "colab": {
     "base_uri": "https://localhost:8080/",
     "height": 489
    },
    "id": "_iEoDXWzGcW8",
    "outputId": "b004130e-bb14-41be-d2f7-66604e38fa78"
   },
   "outputs": [],
   "source": [
    "#Analizar la distribución de cada uno de los datos\n",
    "sns.histplot(data=df, x=df[\"back_x\"], hue=\"activity_type\")\n",
    "plt.title(\"Histograma del sensor back_x clasificado por actividad\")"
   ]
  },
  {
   "cell_type": "markdown",
   "metadata": {
    "id": "Al-2hqALtJer"
   },
   "source": [
    "En este histograma se puede observar la dispersión de los datos recabados por el sensor de la espalda, específicamente orientados en el eje x. De acuerdo con el sitio donde se obtuvo el dataset, se sabe que los valores positivos corresponden a aceleración hacia abajo, mientras que los valores negativos corresponden a aceleración hacia arriba. El histograma muestra que la mayoría de los registros de este eje se encuentran entre -2  y 0, teniendo la mayor concentración en -1. Además de eso, se puede ver que la gran mayoría de estos valores corresponden a estar parado o a estar caminando. Esta interpretación tiene sentido debido a que en ambos escenarios el sujeto de prueba se encuentra de pie, por lo que la aceleración en ese eje debería ir hacia arriba, y por ende es negativa. Por otro lado, también se puede ver que los valores de aceleración más cercanos a 0 corresponden a estar acostado, lo que también coincide con que no haya aceleración en ese eje puesto que estaría recargado a la superficie donde el sujeto de prueba se hubiera acostado. Finalmente los valores intermedios entre -1 y 0 corresponden al resto de las actividades en las que el sujeto de prueba se mueve tanto hacia arriba como hacia abajo."
   ]
  },
  {
   "cell_type": "code",
   "execution_count": null,
   "metadata": {
    "colab": {
     "base_uri": "https://localhost:8080/",
     "height": 489
    },
    "id": "0lqS_xIDG4Xz",
    "outputId": "6e265d5b-e8bc-48ce-8a12-1748b19361d9"
   },
   "outputs": [],
   "source": [
    "sns.histplot(data=df, x=df[\"back_y\"], hue=\"activity_type\")\n",
    "plt.title(\"Histograma del sensor back_y clasificado por actividad\")"
   ]
  },
  {
   "cell_type": "markdown",
   "metadata": {
    "id": "UgCVf3hstlD1"
   },
   "source": [
    "En este histograma se puede observar que el sensor de la espalda tiene mediciones más dispersas en el eje de y, el cual si es positivo significa aceleración hacia la izquierda y si es negativo hacia la derecha. Para este escenario, se puede observar que las mediciones tienden a 0, inclinándose un poco más hacia los valores negativos. Se puede observar que cuando los valores de la aceleración están cercanos a 0 el sujeto de prueba está parado, pero al igual puede estar caminando, y esto fluctúa entre -0.5 y 0.5. Esto se debe a que el sujeto puede estar caminando en cierta dirección, además de que es muy difícil caminar en una línea completamente recta, por lo que es entendible que cuando los valores oscilen en cantidades tan pequeñas se interprete que está parado o caminando. Para el resto de actividades, se puede observar que el sujeto está acostado cuando los valores de aceleración son menores a -0.5. Esto se debe a que el sujeto de prueba podría estar girando o moviéndose pero acostado, lo que explica que se haya seleccionado esta actividad."
   ]
  },
  {
   "cell_type": "code",
   "execution_count": null,
   "metadata": {
    "colab": {
     "base_uri": "https://localhost:8080/",
     "height": 489
    },
    "id": "d1DJXYyuHBei",
    "outputId": "b3bd142d-7bf4-45c3-a45f-12cec9e62211"
   },
   "outputs": [],
   "source": [
    "sns.histplot(data=df, x=df[\"back_z\"], hue=\"activity_type\")\n",
    "plt.title(\"Histograma del sensor back_z clasificado por actividad\")"
   ]
  },
  {
   "cell_type": "markdown",
   "metadata": {
    "id": "zkZMfoEwtliL"
   },
   "source": [
    "Finalmente, el último histograma del sensor de la espalda corresponde a la aceleración en el eje z. Se observa que la mayoría de registros se condensan entre -0.5 y 0. También se puede observar que cuando se eligió la actividad de caminar es desde cuando la aceleración en este eje oscila entre -1 y 0.5. Esto se debe a que al referirse a la dirección hacia adelante, puede interpretarse como que el sujeto está caminando, deteniéndose o incluso estando completamente parado. Por otro lado, se ve que cuando la aceleración es positiva y mayor a 0, se distingue también que está sentado o acostado. Esto se podría deber a que el sujeto al sentarse se inclina hacia adelante, o inclusive que se está poniendo de pie, lo que también aplica para cuando está acostado."
   ]
  },
  {
   "cell_type": "code",
   "execution_count": null,
   "metadata": {
    "colab": {
     "base_uri": "https://localhost:8080/",
     "height": 489
    },
    "id": "m9s1ZC-DHJVR",
    "outputId": "8df2a605-3ace-4e52-ef73-c742da1a9ded"
   },
   "outputs": [],
   "source": [
    "sns.histplot(data=df, x=df[\"thigh_x\"], hue=\"activity_type\")\n",
    "plt.title(\"Histograma del sensor thigh_x clasificado por actividad\")"
   ]
  },
  {
   "cell_type": "markdown",
   "metadata": {
    "id": "pYYsYnELtmG1"
   },
   "source": [
    "En el primer histograma del sensor de la cadera, se observan las mediciones del eje de x. Se puede ver que los valores fluctúan mucho, concentrándose la mayoría entre -2 y 0. Se puede ver que la gran mayoría de registros está cercana al -1 aproximadamente, y esta concentración de registros corresponde a caminar y estar parado. Sin embargo, los valores cercanos a 0 tienen que ver con estar sentado. Se sabe que el sensor de la cadera midiendo el eje x, el positivo significa aceleración hacia abajo y el negativo hacia arriba. Esto tiene sentido debido a que cuando el sujeto de prueba se sienta está agachándose y por consiguiente, incrementando su velocidad hacia abajo. Sin embargo, cuando el valor es negativo significa que se dirige hacia arriba. Y esto se relaciona con las actividades debido a que el movimiento de las piernas indicaría que hay una mayor aceleración, lo que significa que el sujeto está moviéndose o de pie. El resto de las actividades no se puede distinguir claramente en este histograma, por lo que no se pueden hacer interpretaciones justificadas sobre estos datos."
   ]
  },
  {
   "cell_type": "code",
   "execution_count": null,
   "metadata": {
    "colab": {
     "base_uri": "https://localhost:8080/",
     "height": 489
    },
    "id": "VzOVTMkPHL3i",
    "outputId": "25911c0f-b993-4246-b9e5-ec6519e69311"
   },
   "outputs": [],
   "source": [
    "sns.histplot(data=df, x=df[\"thigh_y\"], hue=\"activity_type\")\n",
    "plt.title(\"Histograma del sensor thigh_y clasificado por actividad\")"
   ]
  },
  {
   "cell_type": "markdown",
   "metadata": {
    "id": "-rnitwFKtmlY"
   },
   "source": [
    "En cuanto al eje y del sensor de la cadera, el histograma muestra que los valores se concentran cercanos al 0, con valores que oscilan desde el -2 hasta el 2. El eje y de este sensor corresponde a la dirección derecha, por lo que los valores positivos indican que la aceleración es hacia esta dirección, y los negativos a la izquierda. Se vuelve a ver que la mayoría de los valores corresponden a caminar o estar parado, lo que tiene sentido debido a que una aceleración 0 indica que el sujeto no se está moviendo hacia ninguno de los lados, lo que se puede interpretar como estar caminando o parado, dependiendo del resto de los parámetros del sensor. Otra cosa observable en este histograma es que cuando la aceleración en este eje es positiva se interpreta que el sujeto está acostado. Esto, igualmente, depende de los otros parámetros pero se podría interpretar como que el sujeto de prueba se está girando sobre sí mismo acostado."
   ]
  },
  {
   "cell_type": "code",
   "execution_count": null,
   "metadata": {
    "colab": {
     "base_uri": "https://localhost:8080/",
     "height": 489
    },
    "id": "cSNnSRKiHNzq",
    "outputId": "8787abe8-7ff5-400c-e42b-5e751a99efc7"
   },
   "outputs": [],
   "source": [
    "sns.histplot(data=df, x=df[\"thigh_z\"], hue=\"activity_type\")\n",
    "plt.title(\"Histograma del sensor thigh_z clasificado por actividad\")"
   ]
  },
  {
   "cell_type": "markdown",
   "metadata": {
    "id": "XYoTuu_5tnlP"
   },
   "source": [
    "Finalmente, para el eje z del sensor de la cadera, se puede observar de nuevo, que la mayoría de los registros se concentran alrededor del 0, con valores oscilando de -2 a 2. Sin embargo, este histograma tiene una particularidad, y es que hay una gran cantidad de valores concentrados también en el -1. Estos valores corresponden a estar sentado, mientras que el resto a caminar o estar parado. Esta dirección se define como positivo ir con aceleración hacia atrás, y negativo hacia adelante. Esto se podría interpretar cómo que cuando la aceleración de este eje tiende a -1, el sujeto está sentado debido a que al sentarse mueve las piernas y el cuerpo, lo que hace que ese acelerómetro tome estos parámetros. Sin embargo, cuando la aceleración es más cercana a 0 es porque está caminando o parado ya que la cadera no tiene tanto movimiento cuando se realiza esta actividad. Sin embargo, se deben considerar también el resto de los parámetros para poder hacer una suposición acertada."
   ]
  },
  {
   "cell_type": "markdown",
   "metadata": {
    "id": "sNeCVKsg1wlq"
   },
   "source": [
    "En conclusión, tras haber analizado por separado las mediciones de cada uno de los sensores en cada dirección, lo único que queda por mencionar es que las predicciones del tipo de actividad se hicieron en base a las 6 medidas en conjunto, ya que es muy difícil predecir el tipo de actividad realizada en base únicamente a un eje. Sin embargo, el analizar por separado cada uno de los ejes permite entender más a fondo a qué corresponden los valores, y tener una percepción y un panorama más completo de las mediciones y cómo reflejan el movimiento."
   ]
  },
  {
   "cell_type": "markdown",
   "metadata": {
    "id": "oSsVN0KQatod"
   },
   "source": [
    "### **Análisis bivariante de los datos numéricos**"
   ]
  },
  {
   "cell_type": "code",
   "execution_count": null,
   "metadata": {
    "colab": {
     "base_uri": "https://localhost:8080/",
     "height": 1000
    },
    "id": "1DJfKj9B6igK",
    "outputId": "9158d7fa-d611-4c43-8836-3d248dbf3648"
   },
   "outputs": [],
   "source": [
    "#Analizar cómo están relacionadas las variables numéricas entre sí\n",
    "df_num = df[[\"back_x\",\"back_y\",\"back_z\",\"thigh_x\",\"thigh_y\",\"thigh_z\"]]\n",
    "sns.pairplot(df_num)"
   ]
  },
  {
   "cell_type": "markdown",
   "metadata": {
    "id": "z20ADOqSPgFs"
   },
   "source": [
    "Para interpretar este análisis bivariante, se deben buscar variables que tengan correlación, es decir, que los datos formen una línea diagonal similar a una relación 1 a 1, que se puede expresar como y=x. Al observar estas gráficas, se puede decir que no hay variables correlacionadas, ya que la gran mayoría están dispersas alrededor de la gráfica y no forman adecuadamente una diagonal. Que no haya correlación entre las variables significa que estas serán valiosas para el modelo y poder predecir el tipo de actividad. Sin embargo, para poder comprobar que no haya correlación alguna, lo mejor que se puede realizar es una matriz de correlación y evaluar cada uno de los coeficientes de correlación entre todos los pares posibles de las variables del DataFrame."
   ]
  },
  {
   "cell_type": "markdown",
   "metadata": {
    "id": "N5r8U_m9aytu"
   },
   "source": [
    "### **Análisis de correlación de las variables**"
   ]
  },
  {
   "cell_type": "markdown",
   "metadata": {
    "id": "ga4OP1Sfe_Hs"
   },
   "source": [
    "Tras haber analizado los datos tanto visualmente como numéricamente, lo último que queda por hacer del análisis exploratorio es revisar si hay variables correlacionadas que pudieran llegar a inferir en el modelo de clasificación que se quiere realizar. Para poder hacer esto, se puede modelar la matriz de correlación con todas las variables numéricas, además de luego modelar dicha matriz en un mapa de calor donde se descubriría si hay variables correlacionadas o no."
   ]
  },
  {
   "cell_type": "code",
   "execution_count": null,
   "metadata": {
    "colab": {
     "base_uri": "https://localhost:8080/",
     "height": 237
    },
    "id": "hSAUXuy38w2l",
    "outputId": "73dd5d10-78f8-418e-f442-d853a478af31"
   },
   "outputs": [],
   "source": [
    "#Buscar si hay datos correlacionados con la matriz de correlación\n",
    "df_num.corr()"
   ]
  },
  {
   "cell_type": "code",
   "execution_count": null,
   "metadata": {
    "colab": {
     "base_uri": "https://localhost:8080/",
     "height": 452
    },
    "id": "oMPnqfAW97JY",
    "outputId": "a6c625d1-133d-40c9-c207-ba6bac3c676d"
   },
   "outputs": [],
   "source": [
    "#Graficar la matriz de correlación para ver de mejor forma los datos\n",
    "sns.heatmap(df_num.corr(numeric_only=True), cmap=\"Reds\", annot=True)"
   ]
  },
  {
   "cell_type": "markdown",
   "metadata": {
    "id": "D-QTelq7Pg_1"
   },
   "source": [
    "Tras haber obtenido y graficado la matriz de correlación, se puede observar que no hay variables altamente correlacionadas. Se considera que existe una alta correlación cuando el valor se encuentra entre 0.95 y 1 y, por defecto, entre -0.95 y -1. En este caso, en el heatmap graficado no se observan correlaciones en estos rangos, siendo el valor más cercano 0.67 (Back_z & Thigh_X, Back_X y Back_Z) Se puede observar que el resto de los coeficientes son más pequeños, siendo algunos muy cercanos a 0 y el resto oscilando entre estos extremos.\n",
    "\n",
    "Esta matriz confirma que no hay variables con alta correlación, por lo que se podrían incluir en el modelo de clasificación que se usará para modelar el tipo de actividad realizada dependiendo de las medidas de aceleración de cada sensor."
   ]
  }
 ],
 "metadata": {
  "colab": {
   "provenance": []
  },
  "kernelspec": {
   "display_name": "Python 3 (ipykernel)",
   "language": "python",
   "name": "python3"
  },
  "language_info": {
   "codemirror_mode": {
    "name": "ipython",
    "version": 3
   },
   "file_extension": ".py",
   "mimetype": "text/x-python",
   "name": "python",
   "nbconvert_exporter": "python",
   "pygments_lexer": "ipython3",
   "version": "3.11.4"
  }
 },
 "nbformat": 4,
 "nbformat_minor": 4
}
